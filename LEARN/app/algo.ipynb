{
 "cells": [
  {
   "cell_type": "code",
   "execution_count": 1,
   "metadata": {},
   "outputs": [],
   "source": [
    "import numpy as np"
   ]
  },
  {
   "cell_type": "code",
   "execution_count": 2,
   "metadata": {},
   "outputs": [],
   "source": [
    "# S = [1, 7]\n",
    "def entropy(S):\n",
    "    ps = S/np.sum(S)\n",
    "    e = 0\n",
    "    for pi in ps:\n",
    "        if pi > 0: e += pi * np.log2(pi)\n",
    "    return -e\n",
    "# Ss = [[21, 5], [8, 30]]\n",
    "def AE(Ss):\n",
    "    N = np.sum(Ss)\n",
    "    ae = 0\n",
    "    for Si in Ss:\n",
    "        ae += (np.sum(Si)/N) * entropy(Si)\n",
    "    return ae"
   ]
  },
  {
   "cell_type": "code",
   "execution_count": 8,
   "metadata": {},
   "outputs": [],
   "source": [
    "def gini(S):\n",
    "    ps = S/np.sum(S)\n",
    "    gi = 1\n",
    "    for pi in ps:\n",
    "        gi -= pi**2\n",
    "    return gi\n",
    " \n",
    "def giniIndex(Ss):\n",
    "    N = np.sum(Ss)\n",
    "    gi = 0\n",
    "    for Si in Ss:\n",
    "        gi += (np.sum(Si)/N) * gini(Si)\n",
    "    return gi"
   ]
  },
  {
   "cell_type": "code",
   "execution_count": 10,
   "metadata": {},
   "outputs": [
    {
     "name": "stdout",
     "output_type": "stream",
     "text": [
      "0.15151515151515146 0.4909090909090909 0.4480519480519481\n"
     ]
    }
   ],
   "source": [
    "vi = giniIndex([[5, 1], [0, 2], [0, 3]])\n",
    "mau = giniIndex([[1, 1], [2, 3], [2, 2]])\n",
    "vo = giniIndex([[4, 3], [1, 3]])\n",
    "print(vi, mau, vo)"
   ]
  },
  {
   "cell_type": "code",
   "execution_count": null,
   "metadata": {},
   "outputs": [],
   "source": []
  }
 ],
 "metadata": {
  "kernelspec": {
   "display_name": "DataScience",
   "language": "python",
   "name": "python3"
  },
  "language_info": {
   "codemirror_mode": {
    "name": "ipython",
    "version": 3
   },
   "file_extension": ".py",
   "mimetype": "text/x-python",
   "name": "python",
   "nbconvert_exporter": "python",
   "pygments_lexer": "ipython3",
   "version": "3.9.12"
  },
  "orig_nbformat": 4,
  "vscode": {
   "interpreter": {
    "hash": "da5c88a7b415d3aa4fc851a4158d37c895b2b016e8b5a5cb2326d03829d70c8b"
   }
  }
 },
 "nbformat": 4,
 "nbformat_minor": 2
}
