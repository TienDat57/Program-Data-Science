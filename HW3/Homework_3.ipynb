{
 "cells": [
  {
   "cell_type": "markdown",
   "metadata": {},
   "source": [
    "# Homework 3: Pandas\n",
    "\n",
    "*In this assignment, you will use Pandas and Matplotlib to do a data science process with tabular data. Because this is a Pandas exercise, the general rule is to avoid using loops and apply/applymap method. The notebook file will be detailed where loops are permitted.*\n",
    "\n",
    "**Student information**\n",
    "\n",
    "Student ID: 20127458\n",
    "\n",
    "Student Fullname: Đặng Tiến Đạt"
   ]
  },
  {
   "cell_type": "markdown",
   "metadata": {},
   "source": [
    "---"
   ]
  },
  {
   "cell_type": "markdown",
   "metadata": {},
   "source": [
    "## Instructions for homework and submission\n",
    "\n",
    "&#9889; It's important to keep in mind that the teaching assistants will use a grading support application, so you must strictly adhere to the guidelines outlined in the instructions. If you are unsure, please ask the teaching assistants or the lab instructors as soon as you can. <font color=red>Do not follow your personal preferences at random. </font>\n",
    "\n",
    "### Instructions for doing homework\n",
    "\n",
    "The exercise will be completed directly from this notebook file. First, fill in the file header above with your name and student ID. You fill out the assignment in the notebook file where the given task starts with these patterns below: \n",
    "for required parts to implement\n",
    "```python\n",
    "# YOUR CODE HERE\n",
    "raise NotImplementedError()\n",
    "```\n",
    "or for optional parts:\n",
    "```python\n",
    "# YOUR CODE HERE (OPTION)\n",
    "```\n",
    "or for markdown cell:\n",
    "```markdown\n",
    "YOUR ANSWER HERE\n",
    "```\n",
    "\n",
    "Actually, when doing the lab, you just need to remove the line `raise NotImplementedError()`.\n",
    "\n",
    "There will typically be a cell (or several cells) with test suites to let you determine if the code is correct or not directly below the areas that require code that you need to implement; If there are no errors in this cell, the tests were successful.\n",
    "In some circumstances, test suites may be insufficient, meaning that even if the test passes but the code fails, it may not necessarily be correct. \n",
    "\n",
    "You can print on the screen as you work in the lab to generate more test cells. However, you can either erase the cells you make or add a comment to the statements that are displayed on the screen when you submit. <font color=red>Please be aware that you are not permitted to remove cells or change the coding of the teacher/assistant/lab instructor by yourselves (except where editing is allowed as mentioned above). </font>\n",
    "\n",
    "Try to keep the code organized and clear; name proposed variables, add comments when necessary, and limit the length of each line of code (because otherwise the reader will have to scroll). Use this guideline if needed: a line of code should not exceed 79 characters. \n",
    "\n",
    "It is advised to frequently press CTRL + S while performing the workouts to save your work and prevent data loss.\n",
    "\n",
    "*Keep in mind that <font color=green>knowledge and honest learning are the major objectives here</font>. Thoughts can be discussed, the work and <font color=green>code should be original to you and reflect your actual understanding</font>. <font color=red>Violations will result in a total course grade of zero.</font>*\n",
    "\n",
    "Other advice includes:\n",
    "- Starting early and not waiting until the last minute\n",
    "- Proceed with caution and gentleness. Coding in a very slow, but also very fast, manner. \n",
    "- Avoid sources of interference, such as social networks, games, etc.\n",
    "\n",
    "### Instructions for submission\n",
    "\n",
    "Your work will be graded by selecting `Kernel-Restart & Run All` to restart and run every cell in your notebook while grading. As a result, you should test run `Kernel-Restart` & `Run All` before submitting your work to ensure everything is working as it should.\n",
    "\n",
    "Then you create a submission folder with the following structure:\n",
    "- The `StudentID` folder (e.g., if you have an student ID of 1234567, name the folder 1234567):\n",
    "  - File `Homework_3.ipynb` (no need to submit other files)\n",
    "\n",
    "Finally, compress this `StudentID` folder with *.zip format and submit it on Moodle. <font color=red>Please be sure to strictly follow the submission rules.</font>"
   ]
  },
  {
   "cell_type": "markdown",
   "metadata": {},
   "source": [
    "---"
   ]
  },
  {
   "cell_type": "markdown",
   "metadata": {},
   "source": [
    "## Programming environment"
   ]
  },
  {
   "cell_type": "markdown",
   "metadata": {},
   "source": [
    "In this course, we strictly follow three main rules below:\n",
    "- Programming on Linux environment to complete the labs (you have set up in HW0).\n",
    "- Use Jupyter Notebook or Jupyter Lab to complete the tasks assigned in the `.ipynb` file. Note that: <font color=red>you are NOT ALLOWED to use Google Colab</font>, because it can delete some meta data that our grading support program has created in the exercise file.\n",
    "- Use the package version as in the file \"min_ds-env.yml\" (you see in HW0 how to use Conda to create a code environment from the `.yml` file and how to activate this environment after it is created)"
   ]
  },
  {
   "cell_type": "code",
   "execution_count": 209,
   "metadata": {},
   "outputs": [
    {
     "data": {
      "text/plain": [
       "'/home/tiendat57/anaconda3/envs/DataScience/bin/python'"
      ]
     },
     "execution_count": 209,
     "metadata": {},
     "output_type": "execute_result"
    }
   ],
   "source": [
    "import sys\n",
    "sys.executable"
   ]
  },
  {
   "cell_type": "markdown",
   "metadata": {},
   "source": [
    "If there are no any issues/ problems, the file to run python will be the file of the \"min_ds-env\" code environment."
   ]
  },
  {
   "cell_type": "markdown",
   "metadata": {},
   "source": [
    "---"
   ]
  },
  {
   "cell_type": "markdown",
   "metadata": {},
   "source": [
    "## Import the necessary libraries"
   ]
  },
  {
   "cell_type": "code",
   "execution_count": 210,
   "metadata": {},
   "outputs": [],
   "source": [
    "import pandas as pd\n",
    "import matplotlib.pyplot as plt\n",
    "import numpy as np\n",
    "\n",
    "# YOUR CODE HERE (OPTION) "
   ]
  },
  {
   "cell_type": "markdown",
   "metadata": {},
   "source": [
    "---"
   ]
  },
  {
   "cell_type": "markdown",
   "metadata": {},
   "source": [
    "## Data collection"
   ]
  },
  {
   "cell_type": "markdown",
   "metadata": {},
   "source": [
    "We will use the dataset that has already been collected and is attached as \"mvt.csv\" in this assignment. This is information about car theft in the city of Chicago, Illinois, USA (\"mvt\" stands for \"motor vehicle theft\"). This data is from the edx.org course \"The Analytics Edge,\" and the original source can be found [here](https://data.cityofchicago.org/Public-Safety/Crimes-2001-to-present/ijzp-q8t2)."
   ]
  },
  {
   "cell_type": "markdown",
   "metadata": {},
   "source": [
    "---"
   ]
  },
  {
   "cell_type": "markdown",
   "metadata": {},
   "source": [
    "## Data explorations"
   ]
  },
  {
   "cell_type": "markdown",
   "metadata": {},
   "source": [
    "### Read data from csv file into Pandas dataframe"
   ]
  },
  {
   "cell_type": "code",
   "execution_count": 211,
   "metadata": {},
   "outputs": [
    {
     "name": "stderr",
     "output_type": "stream",
     "text": [
      "/tmp/ipykernel_307/903309213.py:1: DtypeWarning: Columns (6,7) have mixed types. Specify dtype option on import or set low_memory=False.\n",
      "  mvt_df = pd.read_csv('mvt.csv')\n"
     ]
    },
    {
     "data": {
      "text/html": [
       "<div>\n",
       "<style scoped>\n",
       "    .dataframe tbody tr th:only-of-type {\n",
       "        vertical-align: middle;\n",
       "    }\n",
       "\n",
       "    .dataframe tbody tr th {\n",
       "        vertical-align: top;\n",
       "    }\n",
       "\n",
       "    .dataframe thead th {\n",
       "        text-align: right;\n",
       "    }\n",
       "</style>\n",
       "<table border=\"1\" class=\"dataframe\">\n",
       "  <thead>\n",
       "    <tr style=\"text-align: right;\">\n",
       "      <th></th>\n",
       "      <th>ID</th>\n",
       "      <th>Date</th>\n",
       "      <th>LocationDescription</th>\n",
       "      <th>Arrest</th>\n",
       "      <th>Domestic</th>\n",
       "      <th>Beat</th>\n",
       "      <th>District</th>\n",
       "      <th>CommunityArea</th>\n",
       "      <th>Year</th>\n",
       "      <th>Latitude</th>\n",
       "      <th>Longitude</th>\n",
       "    </tr>\n",
       "  </thead>\n",
       "  <tbody>\n",
       "    <tr>\n",
       "      <th>0</th>\n",
       "      <td>8951354</td>\n",
       "      <td>12/31/12 23:15</td>\n",
       "      <td>STREET</td>\n",
       "      <td>False</td>\n",
       "      <td>False</td>\n",
       "      <td>623</td>\n",
       "      <td>6</td>\n",
       "      <td>69</td>\n",
       "      <td>2012</td>\n",
       "      <td>41.756284</td>\n",
       "      <td>-87.621645</td>\n",
       "    </tr>\n",
       "    <tr>\n",
       "      <th>1</th>\n",
       "      <td>8951141</td>\n",
       "      <td>12/31/12 22:00</td>\n",
       "      <td>STREET</td>\n",
       "      <td>False</td>\n",
       "      <td>False</td>\n",
       "      <td>1213</td>\n",
       "      <td>12</td>\n",
       "      <td>24</td>\n",
       "      <td>2012</td>\n",
       "      <td>41.898788</td>\n",
       "      <td>-87.661303</td>\n",
       "    </tr>\n",
       "    <tr>\n",
       "      <th>2</th>\n",
       "      <td>8952745</td>\n",
       "      <td>12/31/12 22:00</td>\n",
       "      <td>RESIDENTIAL YARD (FRONT/BACK)</td>\n",
       "      <td>False</td>\n",
       "      <td>False</td>\n",
       "      <td>1622</td>\n",
       "      <td>16</td>\n",
       "      <td>11</td>\n",
       "      <td>2012</td>\n",
       "      <td>41.969186</td>\n",
       "      <td>-87.767670</td>\n",
       "    </tr>\n",
       "    <tr>\n",
       "      <th>3</th>\n",
       "      <td>8952223</td>\n",
       "      <td>12/31/12 22:00</td>\n",
       "      <td>STREET</td>\n",
       "      <td>False</td>\n",
       "      <td>False</td>\n",
       "      <td>724</td>\n",
       "      <td>7</td>\n",
       "      <td>67</td>\n",
       "      <td>2012</td>\n",
       "      <td>41.769329</td>\n",
       "      <td>-87.657726</td>\n",
       "    </tr>\n",
       "    <tr>\n",
       "      <th>4</th>\n",
       "      <td>8951608</td>\n",
       "      <td>12/31/12 21:30</td>\n",
       "      <td>STREET</td>\n",
       "      <td>False</td>\n",
       "      <td>False</td>\n",
       "      <td>211</td>\n",
       "      <td>2</td>\n",
       "      <td>35</td>\n",
       "      <td>2012</td>\n",
       "      <td>41.837568</td>\n",
       "      <td>-87.621761</td>\n",
       "    </tr>\n",
       "  </tbody>\n",
       "</table>\n",
       "</div>"
      ],
      "text/plain": [
       "        ID            Date            LocationDescription  Arrest  Domestic  \\\n",
       "0  8951354  12/31/12 23:15                         STREET   False     False   \n",
       "1  8951141  12/31/12 22:00                         STREET   False     False   \n",
       "2  8952745  12/31/12 22:00  RESIDENTIAL YARD (FRONT/BACK)   False     False   \n",
       "3  8952223  12/31/12 22:00                         STREET   False     False   \n",
       "4  8951608  12/31/12 21:30                         STREET   False     False   \n",
       "\n",
       "   Beat District CommunityArea  Year   Latitude  Longitude  \n",
       "0   623        6            69  2012  41.756284 -87.621645  \n",
       "1  1213       12            24  2012  41.898788 -87.661303  \n",
       "2  1622       16            11  2012  41.969186 -87.767670  \n",
       "3   724        7            67  2012  41.769329 -87.657726  \n",
       "4   211        2            35  2012  41.837568 -87.621761  "
      ]
     },
     "execution_count": 211,
     "metadata": {},
     "output_type": "execute_result"
    }
   ],
   "source": [
    "mvt_df = pd.read_csv('mvt.csv')\n",
    "mvt_df.head()"
   ]
  },
  {
   "cell_type": "markdown",
   "metadata": {},
   "source": [
    "### Task: How many rows (observations) and columns (attributes) does the data have? <font color=green>(0.25 Points)</font>"
   ]
  },
  {
   "cell_type": "markdown",
   "metadata": {},
   "source": [
    "In this task, you calculate the number of rows and columns (do not hard-code the numbers, e.g., assign strictly a value to these required variables) and save them in two variables, `num_rows`and `num_cols`, respectively."
   ]
  },
  {
   "cell_type": "code",
   "execution_count": 212,
   "metadata": {
    "deletable": false,
    "nbgrader": {
     "cell_type": "code",
     "checksum": "0a03dc9216c2e34b0151074d168e31a3",
     "grade": false,
     "grade_id": "cell-bc8810dbc4930a46",
     "locked": false,
     "schema_version": 3,
     "solution": true,
     "task": false
    }
   },
   "outputs": [],
   "source": [
    "# YOUR CODE HERE\n",
    "num_rows, num_cols = mvt_df.shape"
   ]
  },
  {
   "cell_type": "code",
   "execution_count": 213,
   "metadata": {
    "deletable": false,
    "editable": false,
    "nbgrader": {
     "cell_type": "code",
     "checksum": "9a48e11795f58c3f5d0bba0cf1d9c766",
     "grade": true,
     "grade_id": "cell-41d8eb768a571d35",
     "locked": true,
     "points": 0.25,
     "schema_version": 3,
     "solution": false,
     "task": false
    }
   },
   "outputs": [],
   "source": [
    "# TEST\n",
    "assert num_rows == 191641\n",
    "assert num_cols == 11"
   ]
  },
  {
   "cell_type": "markdown",
   "metadata": {},
   "source": [
    "### What does each row (observation) mean? Is there a phenomenon where rows (observations) have different meanings?"
   ]
  },
  {
   "cell_type": "markdown",
   "metadata": {},
   "source": [
    "A line indicates the information of a crime, according to the data description of the course \"The Analytics Edge\" and preliminary data assessment. There doesn't have seemed to be an outlier line. "
   ]
  },
  {
   "cell_type": "markdown",
   "metadata": {},
   "source": [
    "### Are there any duplicate rows in the data? <font color=green>(0.5 Points)</font>"
   ]
  },
  {
   "cell_type": "markdown",
   "metadata": {},
   "source": [
    "In this task, you will check if there are duplicate observations and store the result into the \"have_duplicated_rows\" variable. This variable has a boolean datatype that represents whether the data has duplicate observations or not. \n",
    "\n",
    "<span style=\"color:dodgerblue\">Hint: Because we use Pandas, dataframes have a method called `duplicated`.</span>"
   ]
  },
  {
   "cell_type": "code",
   "execution_count": 214,
   "metadata": {
    "deletable": false,
    "nbgrader": {
     "cell_type": "code",
     "checksum": "14923eae51d859512c15219a5d64f72d",
     "grade": false,
     "grade_id": "cell-facf998546c4dfeb",
     "locked": false,
     "schema_version": 3,
     "solution": true,
     "task": false
    }
   },
   "outputs": [],
   "source": [
    "# YOUR CODE HERE\n",
    "have_duplicated_rows = mvt_df.duplicated().any()"
   ]
  },
  {
   "cell_type": "code",
   "execution_count": 215,
   "metadata": {
    "deletable": false,
    "editable": false,
    "nbgrader": {
     "cell_type": "code",
     "checksum": "6b284609bcbb8ec5d7955bbc55ca3cf9",
     "grade": true,
     "grade_id": "cell-185c9c090ebb1b30",
     "locked": true,
     "points": 0.5,
     "schema_version": 3,
     "solution": false,
     "task": false
    }
   },
   "outputs": [],
   "source": [
    "# TEST\n",
    "assert have_duplicated_rows == False"
   ]
  },
  {
   "cell_type": "markdown",
   "metadata": {},
   "source": [
    "### What do the columns in the data mean?"
   ]
  },
  {
   "cell_type": "markdown",
   "metadata": {},
   "source": [
    "Here is the description of the course \"The Analytics Edge\" about the columns in the file \"mvt.csv\":\n",
    "- **ID**: a unique identifier for each observation.\n",
    "- **Date**: the date the crime occurred.\n",
    "- **LocationDescription**: the location where the crime occurred.\n",
    "- **Arrest**: whether or not an arrest was made for the crime (TRUE if an arrest was made, and FALSE if an arrest was not made).\n",
    "- **Domestic**: whether or not the crime was a domestic crime, meaning that it was committed against a family member (TRUE if it was domestic, and FALSE if it was not domestic).\n",
    "- **Beat**: the area, or \"beat\" in which the crime occurred. This is the smallest regional division defined by the Chicago police department.\n",
    "- **District**: the police district in which the crime occured. Each district is composed of many beats, and are defined by the Chicago Police Department.\n",
    "- **CommunityArea**: the community area in which the crime occurred. Since the 1920s, Chicago has been divided into what are called \"community areas\", of which there are now 77. The community areas were devised in an attempt to create socially homogeneous regions.\n",
    "- **Year**: the year in which the crime occurred.\n",
    "- **Latitude**: the latitude of the location at which the crime occurred.\n",
    "- **Longitude**: the longitude of the location at which the crime occurred."
   ]
  },
  {
   "cell_type": "markdown",
   "metadata": {},
   "source": [
    "### Task: What data type does each column currently have? Is there a column with a data type that is not suitable for further processing? <font color=green>(0.75 Points)</font>"
   ]
  },
  {
   "cell_type": "markdown",
   "metadata": {},
   "source": [
    "In this take, you get the `dtype` (data type for each element) of each column in dataframe `mvt_df` and stored the results in the series `col_dtypes`; this series have index is the name of columns (column names)"
   ]
  },
  {
   "cell_type": "code",
   "execution_count": 216,
   "metadata": {
    "deletable": false,
    "nbgrader": {
     "cell_type": "code",
     "checksum": "96e1fdd8f9e7fa97311e690dcdea495b",
     "grade": false,
     "grade_id": "cell-e7c33d274bed2b0c",
     "locked": false,
     "schema_version": 3,
     "solution": true,
     "task": false
    }
   },
   "outputs": [],
   "source": [
    "# YOUR CODE HERE\n",
    "col_dtypes = mvt_df.dtypes"
   ]
  },
  {
   "cell_type": "code",
   "execution_count": 217,
   "metadata": {
    "deletable": false,
    "editable": false,
    "nbgrader": {
     "cell_type": "code",
     "checksum": "377ae4306301529c44f6c0021f578899",
     "grade": true,
     "grade_id": "cell-84a2c0629f12e655",
     "locked": true,
     "points": 0.25,
     "schema_version": 3,
     "solution": false,
     "task": false
    }
   },
   "outputs": [],
   "source": [
    "# TEST\n",
    "assert col_dtypes['ID'] in [np.int64, np.int32]\n",
    "assert col_dtypes['Beat'] in [np.int64, np.int32]\n",
    "assert col_dtypes['Year'] in [np.int64, np.int32]\n",
    "assert col_dtypes['Latitude'] in [np.float64, np.float32]\n",
    "assert col_dtypes['Longitude'] in [np.float64, np.float32]\n",
    "assert col_dtypes['Date'] == object\n",
    "assert col_dtypes['LocationDescription'] == object\n",
    "assert col_dtypes['District'] == object\n",
    "assert col_dtypes['CommunityArea'] == object\n",
    "assert col_dtypes['Arrest'] == bool\n",
    "assert col_dtypes['Domestic'] == bool"
   ]
  },
  {
   "cell_type": "markdown",
   "metadata": {},
   "source": [
    "**What does columns that have object dtype mean?**"
   ]
  },
  {
   "cell_type": "markdown",
   "metadata": {},
   "source": [
    "There are 4 columns with the datatype of `object`: \"Date\", \"LocationDescription\", \"District\", \"CommunityArea\". In Pandas, `object` types usually refer to strings. But in fact, an element of `object` type can contain any object in Python as they store the addresses of variables. If the datatype of a column in dataframe is `object`, the datatype of elements in that column can be different from each other. In order to specify the datatype of elements in column, you have to access each of them (e.g. `type(column.iloc[i])`). When reading the data from \"mvt.csv\", you might notice a warning that says \"Columns (6,7) have mixed types\". That means the datatypes of column number 6 and 7 are heterogeneous. Now, you will take a look at the datatypes of element in these 2 columns.\n",
    "\n",
    "Your work is to write a function that has the series as input and the datatypes of elements in column as output. You can use the `apply` method."
   ]
  },
  {
   "cell_type": "code",
   "execution_count": 218,
   "metadata": {
    "deletable": false,
    "nbgrader": {
     "cell_type": "code",
     "checksum": "584650ddec44ef314602d9923b1d8bac",
     "grade": false,
     "grade_id": "cell-9c4658645a61bd6e",
     "locked": false,
     "schema_version": 3,
     "solution": true,
     "task": false
    }
   },
   "outputs": [],
   "source": [
    "def open_object_dtype(s):\n",
    "    dtypes = set()\n",
    "    \n",
    "    # YOUR CODE HERE\n",
    "    dtypes = set(s.apply(type))\n",
    "\n",
    "    return dtypes"
   ]
  },
  {
   "cell_type": "code",
   "execution_count": 219,
   "metadata": {
    "deletable": false,
    "editable": false,
    "nbgrader": {
     "cell_type": "code",
     "checksum": "ce472e6d96c28ba141044b1b1da454d3",
     "grade": true,
     "grade_id": "cell-f767e07e65480668",
     "locked": true,
     "points": 0.5,
     "schema_version": 3,
     "solution": false,
     "task": false
    }
   },
   "outputs": [],
   "source": [
    "# TEST\n",
    "assert open_object_dtype(mvt_df['Date']) == {str}\n",
    "assert open_object_dtype(mvt_df['LocationDescription']) == {str}\n",
    "assert open_object_dtype(mvt_df['District']) == {str, float}\n",
    "assert open_object_dtype(mvt_df['CommunityArea']) == {str, float}"
   ]
  },
  {
   "cell_type": "markdown",
   "metadata": {},
   "source": [
    "**Issues that need to be reprocessed:**\n",
    "\n",
    "- The column \"Date\" has `str` data type. To further explore this column, we will perform the preprocessing step of converting it to `datetime` data type.\n",
    "- The data types for the columns \"District\" and \"CommunityArea\" are `str` and `float`, respectively. If you look closely, you'll notice that 'float' is equivalent to `NaN` and `str` is equivalent to the numerical code \"District\" or \"CommunityArea.\" However, there may be a case where the code is `float` (e.g., column \"CommunityArea\", index 131072). To further explore these two columns, we will perform the preprocessing step of converting them to the `float` data type."
   ]
  },
  {
   "cell_type": "markdown",
   "metadata": {},
   "source": [
    "---"
   ]
  },
  {
   "cell_type": "markdown",
   "metadata": {},
   "source": [
    "## Preprocessing"
   ]
  },
  {
   "cell_type": "markdown",
   "metadata": {},
   "source": [
    "### Task: Convert dtype of \"Date\" column to datetime <font color=green>(0.5 Points)</font>"
   ]
  },
  {
   "cell_type": "markdown",
   "metadata": {},
   "source": [
    "You have to convert the datatype of the `Date` column to the time data type (after that, the `Date` column in `mvt_df` must change the `dtype`). \n",
    "\n",
    "<span style=\"color:dodgerblue\">Hint: you can use the function `pd.to_datetime`; when using `pd.to_datetime` you pass the appropriate value to the `format` parameter (otherwise, it will run very slowly because Pandas has to guess the format).</span>\n",
    "\n",
    "References: https://pandas.pydata.org/docs/reference/api/pandas.to_datetime.html"
   ]
  },
  {
   "cell_type": "code",
   "execution_count": 220,
   "metadata": {
    "deletable": false,
    "nbgrader": {
     "cell_type": "code",
     "checksum": "ddf290b1ea2092ab7a32e6b7921c0406",
     "grade": false,
     "grade_id": "cell-39a0a94d173359e5",
     "locked": false,
     "schema_version": 3,
     "solution": true,
     "task": false
    }
   },
   "outputs": [],
   "source": [
    "# YOUR CODE HERE\n",
    "mvt_df['Date'] = pd.to_datetime(mvt_df['Date'], format='%m/%d/%y %H:%M')"
   ]
  },
  {
   "cell_type": "code",
   "execution_count": 221,
   "metadata": {
    "deletable": false,
    "editable": false,
    "nbgrader": {
     "cell_type": "code",
     "checksum": "5f6923410d6fed98c9381e1f46596010",
     "grade": true,
     "grade_id": "cell-8d966ec31928fc64",
     "locked": true,
     "points": 0.5,
     "schema_version": 3,
     "solution": false,
     "task": false
    }
   },
   "outputs": [],
   "source": [
    "# TEST \n",
    "# Nếu dtype của cột \"Date\" đã được chuyển sang datetime thì phải dùng được .dt.\n",
    "assert mvt_df['Date'].dt.year.min() == 2001 "
   ]
  },
  {
   "cell_type": "markdown",
   "metadata": {},
   "source": [
    "### Task: Convert dtype of \"District\" and \"CommunityArea\" columns to float <font color=green>(0.5 Points)</font>"
   ]
  },
  {
   "cell_type": "markdown",
   "metadata": {},
   "source": [
    "Change the `dtype` of the \"District\" and \"CommunityArea\" columns to `float` (when done, the `dtype` of the \"District\" and \"CommunityArea\" columns in `mvt df` must change to `float`). If you try to pass, you will get an error because there is a value of \" \" (the string has a space) in these columns. So that, before converting, you should replace the \" \" values with NaN."
   ]
  },
  {
   "cell_type": "code",
   "execution_count": 222,
   "metadata": {
    "deletable": false,
    "nbgrader": {
     "cell_type": "code",
     "checksum": "04e2fbb9a221dd48d795c26dcab9017e",
     "grade": false,
     "grade_id": "cell-82a6fc90114be977",
     "locked": false,
     "schema_version": 3,
     "solution": true,
     "task": false
    }
   },
   "outputs": [],
   "source": [
    "# YOUR CODE HERE\n",
    "mvt_df[['District', 'CommunityArea']] = mvt_df[['District', 'CommunityArea']].replace(' ', np.nan).astype(float)"
   ]
  },
  {
   "cell_type": "code",
   "execution_count": 223,
   "metadata": {
    "deletable": false,
    "editable": false,
    "nbgrader": {
     "cell_type": "code",
     "checksum": "ecb7f5dee613878e4b93d951cc2c68d4",
     "grade": true,
     "grade_id": "cell-02292b1dd9159219",
     "locked": true,
     "points": 0.5,
     "schema_version": 3,
     "solution": false,
     "task": false
    }
   },
   "outputs": [],
   "source": [
    "# TEST\n",
    "assert mvt_df['District'].dtype in [np.float32, np.float64]\n",
    "assert mvt_df['CommunityArea'].dtype in [np.float32, np.float64]"
   ]
  },
  {
   "cell_type": "markdown",
   "metadata": {},
   "source": [
    "---"
   ]
  },
  {
   "cell_type": "markdown",
   "metadata": {},
   "source": [
    "## Data explorations (continue)"
   ]
  },
  {
   "cell_type": "markdown",
   "metadata": {},
   "source": [
    "### Task: For each column with numeric data types, how are the values distributed? <font color=green>(0.5 Points)</font>"
   ]
  },
  {
   "cell_type": "markdown",
   "metadata": {},
   "source": [
    "The datetime columns will be added to the numeric group. There appear to be 8 columns in the numeric group right now: \"Latitude\" and \"Longitude\". However, the four columns \"ID,\" \"Beat,\" \"District,\" and \"CommunityArea\" are categorical (since they are numeric codes). As a result, only four numeric columns exist: \"Date,\" \"Year,\" \"Latitude,\" and \"Longitude.\"\n",
    "\n",
    "You will compute the percentage of missing values (from 0 to 100), the minimum and maximum for each numeric column. The results are saved to the dataframe `nume_col_profiles_df`. This dataframe contains three lines: \"missing ratio,\" \"min,\" and \"max,\" as well as four columns: \"Date,\" \"Year,\" \"Latitude,\" and \"Longitude.\""
   ]
  },
  {
   "cell_type": "code",
   "execution_count": 245,
   "metadata": {
    "deletable": false,
    "nbgrader": {
     "cell_type": "code",
     "checksum": "95f164d4ff7a5ee9869dbcc8e0c31d32",
     "grade": false,
     "grade_id": "cell-4c64c2ce1eea9f1d",
     "locked": false,
     "schema_version": 3,
     "solution": true,
     "task": false
    }
   },
   "outputs": [
    {
     "data": {
      "text/html": [
       "<div>\n",
       "<style scoped>\n",
       "    .dataframe tbody tr th:only-of-type {\n",
       "        vertical-align: middle;\n",
       "    }\n",
       "\n",
       "    .dataframe tbody tr th {\n",
       "        vertical-align: top;\n",
       "    }\n",
       "\n",
       "    .dataframe thead th {\n",
       "        text-align: right;\n",
       "    }\n",
       "</style>\n",
       "<table border=\"1\" class=\"dataframe\">\n",
       "  <thead>\n",
       "    <tr style=\"text-align: right;\">\n",
       "      <th></th>\n",
       "      <th>Date</th>\n",
       "      <th>Year</th>\n",
       "      <th>Latitude</th>\n",
       "      <th>Longitude</th>\n",
       "    </tr>\n",
       "  </thead>\n",
       "  <tbody>\n",
       "    <tr>\n",
       "      <th>missing_ratio</th>\n",
       "      <td>0.0</td>\n",
       "      <td>0.0</td>\n",
       "      <td>1.187637</td>\n",
       "      <td>1.187637</td>\n",
       "    </tr>\n",
       "    <tr>\n",
       "      <th>min</th>\n",
       "      <td>2001-01-01 00:01:00</td>\n",
       "      <td>2001</td>\n",
       "      <td>41.64471</td>\n",
       "      <td>-87.92551</td>\n",
       "    </tr>\n",
       "    <tr>\n",
       "      <th>max</th>\n",
       "      <td>2012-12-31 23:15:00</td>\n",
       "      <td>2012</td>\n",
       "      <td>42.022878</td>\n",
       "      <td>-87.524676</td>\n",
       "    </tr>\n",
       "  </tbody>\n",
       "</table>\n",
       "</div>"
      ],
      "text/plain": [
       "                              Date  Year   Latitude  Longitude\n",
       "missing_ratio                  0.0   0.0   1.187637   1.187637\n",
       "min            2001-01-01 00:01:00  2001   41.64471  -87.92551\n",
       "max            2012-12-31 23:15:00  2012  42.022878 -87.524676"
      ]
     },
     "execution_count": 245,
     "metadata": {},
     "output_type": "execute_result"
    }
   ],
   "source": [
    "# YOUR CODE HERE\n",
    "nume_col_profiles_df = pd.DataFrame(index=['missing_ratio', 'min', 'max'], columns=['Date', 'Year', 'Latitude', 'Longitude'])\n",
    "nume_col_profiles_df.loc['missing_ratio'] = mvt_df[['Date', 'Year', 'Latitude', 'Longitude']].isnull().sum() / mvt_df.shape[0] * 100\n",
    "nume_col_profiles_df.loc['min'] = mvt_df[['Date', 'Year', 'Latitude', 'Longitude']].min()\n",
    "nume_col_profiles_df.loc['max'] = mvt_df[['Date', 'Year', 'Latitude', 'Longitude']].max()\n",
    "nume_col_profiles_df[['Latitude', 'Longitude']] = nume_col_profiles_df[['Latitude', 'Longitude']].astype(float)\n",
    "nume_col_profiles_df.head()"
   ]
  },
  {
   "cell_type": "code",
   "execution_count": 247,
   "metadata": {
    "deletable": false,
    "editable": false,
    "nbgrader": {
     "cell_type": "code",
     "checksum": "4637556038e96ab4c3eb85fcb491c6b1",
     "grade": true,
     "grade_id": "cell-d148b332b71aabcc",
     "locked": true,
     "points": 0.5,
     "schema_version": 3,
     "solution": false,
     "task": false
    }
   },
   "outputs": [
    {
     "ename": "TypeError",
     "evalue": "loop of ufunc does not support argument 0 of type float which has no callable rint method",
     "output_type": "error",
     "traceback": [
      "\u001b[0;31m---------------------------------------------------------------------------\u001b[0m",
      "\u001b[0;31mAttributeError\u001b[0m                            Traceback (most recent call last)",
      "\u001b[0;31mAttributeError\u001b[0m: 'float' object has no attribute 'rint'",
      "\nThe above exception was the direct cause of the following exception:\n",
      "\u001b[0;31mTypeError\u001b[0m                                 Traceback (most recent call last)",
      "Cell \u001b[0;32mIn [247], line 10\u001b[0m\n\u001b[1;32m      3\u001b[0m \u001b[39massert\u001b[39;00m \u001b[39mdict\u001b[39m(df[\u001b[39m'\u001b[39m\u001b[39mDate\u001b[39m\u001b[39m'\u001b[39m]) \u001b[39m==\u001b[39m \\\n\u001b[1;32m      4\u001b[0m     {\u001b[39m'\u001b[39m\u001b[39mmissing_ratio\u001b[39m\u001b[39m'\u001b[39m: \u001b[39m0.0\u001b[39m,\n\u001b[1;32m      5\u001b[0m      \u001b[39m'\u001b[39m\u001b[39mmin\u001b[39m\u001b[39m'\u001b[39m: pd\u001b[39m.\u001b[39mTimestamp(\u001b[39m'\u001b[39m\u001b[39m2001-01-01 00:01:00\u001b[39m\u001b[39m'\u001b[39m),\n\u001b[1;32m      6\u001b[0m      \u001b[39m'\u001b[39m\u001b[39mmax\u001b[39m\u001b[39m'\u001b[39m: pd\u001b[39m.\u001b[39mTimestamp(\u001b[39m'\u001b[39m\u001b[39m2012-12-31 23:15:00\u001b[39m\u001b[39m'\u001b[39m)}\n\u001b[1;32m      7\u001b[0m \u001b[39massert\u001b[39;00m \u001b[39mdict\u001b[39m(df[\u001b[39m'\u001b[39m\u001b[39mYear\u001b[39m\u001b[39m'\u001b[39m]) \u001b[39m==\u001b[39m {\u001b[39m'\u001b[39m\u001b[39mmissing_ratio\u001b[39m\u001b[39m'\u001b[39m: \u001b[39m0.0\u001b[39m,\n\u001b[1;32m      8\u001b[0m                             \u001b[39m'\u001b[39m\u001b[39mmin\u001b[39m\u001b[39m'\u001b[39m: \u001b[39m2001.0\u001b[39m,\n\u001b[1;32m      9\u001b[0m                             \u001b[39m'\u001b[39m\u001b[39mmax\u001b[39m\u001b[39m'\u001b[39m: \u001b[39m2012.0\u001b[39m}\n\u001b[0;32m---> 10\u001b[0m \u001b[39massert\u001b[39;00m \u001b[39mdict\u001b[39m(df[\u001b[39m'\u001b[39;49m\u001b[39mLatitude\u001b[39;49m\u001b[39m'\u001b[39;49m]\u001b[39m.\u001b[39;49mround(\u001b[39m3\u001b[39;49m)) \u001b[39m==\u001b[39m {\u001b[39m'\u001b[39m\u001b[39mmissing_ratio\u001b[39m\u001b[39m'\u001b[39m: \u001b[39m1.188\u001b[39m,\n\u001b[1;32m     11\u001b[0m                                          \u001b[39m'\u001b[39m\u001b[39mmin\u001b[39m\u001b[39m'\u001b[39m: \u001b[39m41.645\u001b[39m,\n\u001b[1;32m     12\u001b[0m                                          \u001b[39m'\u001b[39m\u001b[39mmax\u001b[39m\u001b[39m'\u001b[39m: \u001b[39m42.023\u001b[39m}\n\u001b[1;32m     13\u001b[0m \u001b[39massert\u001b[39;00m \u001b[39mdict\u001b[39m(df[\u001b[39m'\u001b[39m\u001b[39mLongitude\u001b[39m\u001b[39m'\u001b[39m]\u001b[39m.\u001b[39mround(\u001b[39m3\u001b[39m)) \u001b[39m==\u001b[39m {\u001b[39m'\u001b[39m\u001b[39mmissing_ratio\u001b[39m\u001b[39m'\u001b[39m: \u001b[39m1.188\u001b[39m,\n\u001b[1;32m     14\u001b[0m                                           \u001b[39m'\u001b[39m\u001b[39mmin\u001b[39m\u001b[39m'\u001b[39m: \u001b[39m-\u001b[39m\u001b[39m87.926\u001b[39m,\n\u001b[1;32m     15\u001b[0m                                           \u001b[39m'\u001b[39m\u001b[39mmax\u001b[39m\u001b[39m'\u001b[39m: \u001b[39m-\u001b[39m\u001b[39m87.525\u001b[39m}\n",
      "File \u001b[0;32m~/anaconda3/envs/DataScience/lib/python3.9/site-packages/pandas/core/series.py:2602\u001b[0m, in \u001b[0;36mSeries.round\u001b[0;34m(self, decimals, *args, **kwargs)\u001b[0m\n\u001b[1;32m   2570\u001b[0m \u001b[39m\"\"\"\u001b[39;00m\n\u001b[1;32m   2571\u001b[0m \u001b[39mRound each value in a Series to the given number of decimals.\u001b[39;00m\n\u001b[1;32m   2572\u001b[0m \n\u001b[0;32m   (...)\u001b[0m\n\u001b[1;32m   2599\u001b[0m \u001b[39mdtype: float64\u001b[39;00m\n\u001b[1;32m   2600\u001b[0m \u001b[39m\"\"\"\u001b[39;00m\n\u001b[1;32m   2601\u001b[0m nv\u001b[39m.\u001b[39mvalidate_round(args, kwargs)\n\u001b[0;32m-> 2602\u001b[0m result \u001b[39m=\u001b[39m \u001b[39mself\u001b[39;49m\u001b[39m.\u001b[39;49m_values\u001b[39m.\u001b[39;49mround(decimals)\n\u001b[1;32m   2603\u001b[0m result \u001b[39m=\u001b[39m \u001b[39mself\u001b[39m\u001b[39m.\u001b[39m_constructor(result, index\u001b[39m=\u001b[39m\u001b[39mself\u001b[39m\u001b[39m.\u001b[39mindex)\u001b[39m.\u001b[39m__finalize__(\n\u001b[1;32m   2604\u001b[0m     \u001b[39mself\u001b[39m, method\u001b[39m=\u001b[39m\u001b[39m\"\u001b[39m\u001b[39mround\u001b[39m\u001b[39m\"\u001b[39m\n\u001b[1;32m   2605\u001b[0m )\n\u001b[1;32m   2607\u001b[0m \u001b[39mreturn\u001b[39;00m result\n",
      "\u001b[0;31mTypeError\u001b[0m: loop of ufunc does not support argument 0 of type float which has no callable rint method"
     ]
    }
   ],
   "source": [
    "# TEST\n",
    "df = nume_col_profiles_df\n",
    "assert dict(df['Date']) == \\\n",
    "    {'missing_ratio': 0.0,\n",
    "     'min': pd.Timestamp('2001-01-01 00:01:00'),\n",
    "     'max': pd.Timestamp('2012-12-31 23:15:00')}\n",
    "assert dict(df['Year']) == {'missing_ratio': 0.0,\n",
    "                            'min': 2001.0,\n",
    "                            'max': 2012.0}\n",
    "assert dict(df['Latitude'].round(3)) == {'missing_ratio': 1.188,\n",
    "                                         'min': 41.645,\n",
    "                                         'max': 42.023}\n",
    "assert dict(df['Longitude'].round(3)) == {'missing_ratio': 1.188,\n",
    "                                          'min': -87.926,\n",
    "                                          'max': -87.525}\n"
   ]
  },
  {
   "cell_type": "markdown",
   "metadata": {},
   "source": [
    "The minimum and maximum values do not appear to be unusual."
   ]
  },
  {
   "cell_type": "markdown",
   "metadata": {},
   "source": [
    "### Task: With each categorical column, how are values distributed? <font color=green>(0.75 Points)</font>"
   ]
  },
  {
   "cell_type": "markdown",
   "metadata": {},
   "source": [
    "`mvt df` contains seven categorical columns: \"ID,\" \"LocationDescription,\" \"Arrest,\" \"Domestic,\" \"Beat,\" \"District,\" and \"CommunityArea.\"\n",
    "\n",
    "You compute the percentage of missing values (from 0 to 100), the number of different values (not counting missing values), and a list or array of different values for each categorical column (no missing values). The results are saved to the dataframe `cate_col_profiles_df`. There are three lines in this dataframe: \"missing ratio,\" \"num diff vals,\" and \"diff vals,\" as well as seven columns: \"ID,\" \"LocationDescription,\" \"Arrest,\" \"Domestic,\" \"Beat,\" \"District,\" and \"CommunityArea.\""
   ]
  },
  {
   "cell_type": "code",
   "execution_count": 226,
   "metadata": {
    "deletable": false,
    "nbgrader": {
     "cell_type": "code",
     "checksum": "35296018f9eb13360b7c8c16620dd5e7",
     "grade": false,
     "grade_id": "cell-22007ecdcdfa0acc",
     "locked": false,
     "schema_version": 3,
     "solution": true,
     "task": false
    }
   },
   "outputs": [
    {
     "data": {
      "text/html": [
       "<div>\n",
       "<style scoped>\n",
       "    .dataframe tbody tr th:only-of-type {\n",
       "        vertical-align: middle;\n",
       "    }\n",
       "\n",
       "    .dataframe tbody tr th {\n",
       "        vertical-align: top;\n",
       "    }\n",
       "\n",
       "    .dataframe thead th {\n",
       "        text-align: right;\n",
       "    }\n",
       "</style>\n",
       "<table border=\"1\" class=\"dataframe\">\n",
       "  <thead>\n",
       "    <tr style=\"text-align: right;\">\n",
       "      <th></th>\n",
       "      <th>ID</th>\n",
       "      <th>LocationDescription</th>\n",
       "      <th>Arrest</th>\n",
       "      <th>Domestic</th>\n",
       "      <th>Beat</th>\n",
       "      <th>District</th>\n",
       "      <th>CommunityArea</th>\n",
       "    </tr>\n",
       "  </thead>\n",
       "  <tbody>\n",
       "    <tr>\n",
       "      <th>missing_ratio</th>\n",
       "      <td>0.0</td>\n",
       "      <td>0.0</td>\n",
       "      <td>0.0</td>\n",
       "      <td>0.0</td>\n",
       "      <td>0.0</td>\n",
       "      <td>22.467009</td>\n",
       "      <td>12.844851</td>\n",
       "    </tr>\n",
       "    <tr>\n",
       "      <th>num_diff_vals</th>\n",
       "      <td>191641</td>\n",
       "      <td>78</td>\n",
       "      <td>2</td>\n",
       "      <td>2</td>\n",
       "      <td>300</td>\n",
       "      <td>26</td>\n",
       "      <td>78</td>\n",
       "    </tr>\n",
       "    <tr>\n",
       "      <th>diff_vals</th>\n",
       "      <td>[8951354, 8951141, 8952745, 8952223, 8951608, ...</td>\n",
       "      <td>[STREET, RESIDENTIAL YARD (FRONT/BACK), GAS ST...</td>\n",
       "      <td>[False, True]</td>\n",
       "      <td>[False, True]</td>\n",
       "      <td>[623, 1213, 1622, 724, 211, 2521, 423, 231, 10...</td>\n",
       "      <td>[6.0, 12.0, 16.0, 7.0, 2.0, 25.0, 4.0, 10.0, 9...</td>\n",
       "      <td>[69.0, 24.0, 11.0, 67.0, 35.0, 19.0, 48.0, 40....</td>\n",
       "    </tr>\n",
       "  </tbody>\n",
       "</table>\n",
       "</div>"
      ],
      "text/plain": [
       "                                                              ID  \\\n",
       "missing_ratio                                                0.0   \n",
       "num_diff_vals                                             191641   \n",
       "diff_vals      [8951354, 8951141, 8952745, 8952223, 8951608, ...   \n",
       "\n",
       "                                             LocationDescription  \\\n",
       "missing_ratio                                                0.0   \n",
       "num_diff_vals                                                 78   \n",
       "diff_vals      [STREET, RESIDENTIAL YARD (FRONT/BACK), GAS ST...   \n",
       "\n",
       "                      Arrest       Domestic  \\\n",
       "missing_ratio            0.0            0.0   \n",
       "num_diff_vals              2              2   \n",
       "diff_vals      [False, True]  [False, True]   \n",
       "\n",
       "                                                            Beat  \\\n",
       "missing_ratio                                                0.0   \n",
       "num_diff_vals                                                300   \n",
       "diff_vals      [623, 1213, 1622, 724, 211, 2521, 423, 231, 10...   \n",
       "\n",
       "                                                        District  \\\n",
       "missing_ratio                                          22.467009   \n",
       "num_diff_vals                                                 26   \n",
       "diff_vals      [6.0, 12.0, 16.0, 7.0, 2.0, 25.0, 4.0, 10.0, 9...   \n",
       "\n",
       "                                                   CommunityArea  \n",
       "missing_ratio                                          12.844851  \n",
       "num_diff_vals                                                 78  \n",
       "diff_vals      [69.0, 24.0, 11.0, 67.0, 35.0, 19.0, 48.0, 40....  "
      ]
     },
     "execution_count": 226,
     "metadata": {},
     "output_type": "execute_result"
    }
   ],
   "source": [
    "# YOUR CODE HERE\n",
    "cate_col_profiles_df = pd.DataFrame(index=['missing_ratio', 'num_diff_vals', 'diff_vals'], columns=['ID', 'LocationDescription', 'Arrest', 'Domestic', 'Beat', 'District', 'CommunityArea'])\n",
    "temp_mvt_df = mvt_df[['ID', 'LocationDescription', 'Arrest', 'Domestic', 'Beat', 'District', 'CommunityArea']]\n",
    "cate_col_profiles_df.loc['missing_ratio'] = temp_mvt_df.isnull().sum() / mvt_df.shape[0] * 100\n",
    "cate_col_profiles_df.loc['num_diff_vals'] = temp_mvt_df.nunique()\n",
    "cate_col_profiles_df.loc['diff_vals'] = temp_mvt_df.apply(lambda x: x[~x.isnull()].unique().tolist(), axis=0)\n",
    "cate_col_profiles_df.head()"
   ]
  },
  {
   "cell_type": "code",
   "execution_count": 227,
   "metadata": {
    "deletable": false,
    "editable": false,
    "nbgrader": {
     "cell_type": "code",
     "checksum": "67f51e22da093a2d3452c613b4069b81",
     "grade": true,
     "grade_id": "cell-a4cbf35ddac608bb",
     "locked": true,
     "points": 0.75,
     "schema_version": 3,
     "solution": false,
     "task": false
    }
   },
   "outputs": [],
   "source": [
    "# TEST\n",
    "df = cate_col_profiles_df\n",
    "assert dict(df.loc['missing_ratio'].astype(float).round(3)) == \\\n",
    "    {'ID': 0.0,\n",
    "     'LocationDescription': 0.0,\n",
    "     'Arrest': 0.0,\n",
    "     'Domestic': 0.0,\n",
    "     'Beat': 0.0,\n",
    "     'District': 22.467,\n",
    "     'CommunityArea': 12.845}\n",
    "assert dict(df.loc['num_diff_vals'].astype(int)) == \\\n",
    "    {'ID': 191641,\n",
    "     'LocationDescription': 78,\n",
    "     'Arrest': 2,\n",
    "     'Domestic': 2,\n",
    "     'Beat': 300,\n",
    "     'District': 26,\n",
    "     'CommunityArea': 78}\n",
    "assert dict(df.loc['diff_vals'].apply(len)) == \\\n",
    "    {'ID': 191641,\n",
    "     'LocationDescription': 78,\n",
    "     'Arrest': 2,\n",
    "     'Domestic': 2,\n",
    "     'Beat': 300,\n",
    "     'District': 26,\n",
    "     'CommunityArea': 78}"
   ]
  },
  {
   "cell_type": "markdown",
   "metadata": {},
   "source": [
    "### More clarification on the meaning of \"Beat\", \"District\", and \"CommunityArea\" columns <font color=green>(1.25 Points)</font>"
   ]
  },
  {
   "cell_type": "markdown",
   "metadata": {},
   "source": [
    "Following the description of \"The Analytics Edge\" course:\n",
    "- **Beat**: the area, or \"beat\" in which the crime occurred. This is the smallest regional division defined by the Chicago police department.\n",
    "- **District**: the police district in which the crime occured. Each district is composed of many beats, and are defined by the Chicago Police Department.\n",
    "- **CommunityArea**: the community area in which the crime occurred. Since the 1920s, Chicago has been divided into what are called \"community areas\", of which there are now 77. The community areas were devised in an attempt to create socially homogeneous regions.\n",
    "\n",
    "Thus, \"Beat\" is the smallest unit, while \"District\" is consist of many \"Beats\". So, do the \"Districts\" not overlap with one another? (It is not possible for a \"Beat\" to be in both this \"District\" and the other \"District\" at the same time.) And each \"CommunityArea\" is consist of multiple \"Beats\" that do not overlap with one another? To answer these two questions, compute the ratio (from 0 to 1) of \"Beats\" belonging to more than one \"District\" and the proportion of \"Beats\" belonging to more than one \"CommunityArea\" below. The results are saved in two variables, `multi_district_ratio` and `multi_comarea_ratio`, respectively."
   ]
  },
  {
   "cell_type": "code",
   "execution_count": 228,
   "metadata": {
    "deletable": false,
    "nbgrader": {
     "cell_type": "code",
     "checksum": "2268d3a3d5426f2fcdb34418847b7b1f",
     "grade": false,
     "grade_id": "cell-f312e85b9123e0b0",
     "locked": false,
     "schema_version": 3,
     "solution": true,
     "task": false
    }
   },
   "outputs": [],
   "source": [
    "# YOUR CODE HERE\n",
    "multi_district_ratio, multi_comarea_ratio = mvt_df.groupby('Beat')[['District', 'CommunityArea']].nunique().apply(lambda x: x > 1).sum() / mvt_df['Beat'].nunique()"
   ]
  },
  {
   "cell_type": "code",
   "execution_count": 229,
   "metadata": {
    "deletable": false,
    "editable": false,
    "nbgrader": {
     "cell_type": "code",
     "checksum": "8a580613b075cfb45b2ef6de48d5ff5d",
     "grade": true,
     "grade_id": "cell-6faf22732c2063c1",
     "locked": true,
     "points": 1.25,
     "schema_version": 3,
     "solution": false,
     "task": false
    }
   },
   "outputs": [],
   "source": [
    "# TEST\n",
    "assert round(multi_district_ratio, 3) == 0.210\n",
    "assert round(multi_comarea_ratio, 3) == 0.603"
   ]
  },
  {
   "cell_type": "markdown",
   "metadata": {},
   "source": [
    "---"
   ]
  },
  {
   "cell_type": "markdown",
   "metadata": {},
   "source": [
    "## Ask a meaningful question that needs answering"
   ]
  },
  {
   "cell_type": "markdown",
   "metadata": {},
   "source": [
    "There are a number of questions that can be answered with data after exploring it and better understanding it:\n",
    "- How does the number of crimes change according to years?\n",
    "- With the given cases that occur each year, calculating the proportion of crime caught by the time the data is garthered?\n",
    "- Which \"Beat\" has the most crimes each year, and which has the fewest?\n",
    "- What five types of locations (off-streets/ street, parking spaces/ parking lot, etc.) have seen the most crime in the last three years?\n",
    "- How has the number of crimes changed month by month over the last three years?\n",
    "\n",
    "In your final project, you will need to generate meaningful questions and explain why they are meaningful to the reader. Because the main goal of this exercise is to practice Pandas data processing operations, I won't explain to the reader why the questions make sense. Good luck 😉. "
   ]
  },
  {
   "cell_type": "markdown",
   "metadata": {},
   "source": [
    "---"
   ]
  },
  {
   "cell_type": "markdown",
   "metadata": {},
   "source": [
    "## Preprocessing"
   ]
  },
  {
   "cell_type": "markdown",
   "metadata": {},
   "source": [
    "### Add \"Month\" column into dataframe <font color=green>(0.5 Points)</font>"
   ]
  },
  {
   "cell_type": "markdown",
   "metadata": {},
   "source": [
    "The above questions require information about the month of the crime. As a result, before analyzing to answer the questions, preprocess by adding the column \"Month\" (month of crime) to `mvt df`. After that `mvt df` must be changed after it is added."
   ]
  },
  {
   "cell_type": "code",
   "execution_count": 230,
   "metadata": {
    "deletable": false,
    "nbgrader": {
     "cell_type": "code",
     "checksum": "787b5ee9b1bac081bc64c2b0a61da43d",
     "grade": false,
     "grade_id": "cell-b11a3d54448e8905",
     "locked": false,
     "schema_version": 3,
     "solution": true,
     "task": false
    }
   },
   "outputs": [],
   "source": [
    "# YOUR CODE HERE\n",
    "mvt_df['Month'] = mvt_df['Date'].dt.month"
   ]
  },
  {
   "cell_type": "code",
   "execution_count": 231,
   "metadata": {
    "deletable": false,
    "editable": false,
    "nbgrader": {
     "cell_type": "code",
     "checksum": "56696f03a8d9c1e4a407cc39e0b28e5a",
     "grade": true,
     "grade_id": "cell-6a301e064922ea1e",
     "locked": true,
     "points": 0.5,
     "schema_version": 3,
     "solution": false,
     "task": false
    }
   },
   "outputs": [],
   "source": [
    "# TEST\n",
    "assert mvt_df['Month'].min() == 1\n",
    "assert mvt_df['Month'].max() == 12"
   ]
  },
  {
   "cell_type": "markdown",
   "metadata": {},
   "source": [
    "---"
   ]
  },
  {
   "cell_type": "markdown",
   "metadata": {},
   "source": [
    "## Analyzing data to find the answer for each question"
   ]
  },
  {
   "cell_type": "markdown",
   "metadata": {},
   "source": [
    "### How does the number of crimes change according to years? <font color=green>(0.75 Points)</font>\n",
    "\n",
    "You will use the following procedures to respond to this question:\n",
    "- Step 1: Calculate the number of crimes committed for each year. You save the results to the series `num_thefts_each_year`, where its index is year.\n",
    "- Step 2: You create a line graph using the above results, with the horizontal axis representing the year and the vertical axis representing the number of crimes. To clearly show the data points, you use the marker as a round point. The horizontal axis is labeled \"Year,\" and the vertical axis is labeled \"NumThefts.\""
   ]
  },
  {
   "cell_type": "markdown",
   "metadata": {},
   "source": [
    "Implement for step 1. "
   ]
  },
  {
   "cell_type": "code",
   "execution_count": 232,
   "metadata": {
    "deletable": false,
    "nbgrader": {
     "cell_type": "code",
     "checksum": "05fec7cb772d08bedb6ec735494daabf",
     "grade": false,
     "grade_id": "cell-ca92bcde951cbcd9",
     "locked": false,
     "schema_version": 3,
     "solution": true,
     "task": false
    }
   },
   "outputs": [],
   "source": [
    "# YOUR CODE HERE\n",
    "num_thefts_each_year = mvt_df.groupby('Year').size()"
   ]
  },
  {
   "cell_type": "code",
   "execution_count": 233,
   "metadata": {
    "deletable": false,
    "editable": false,
    "nbgrader": {
     "cell_type": "code",
     "checksum": "fe83be47c3daa56e2e392cc416c03e35",
     "grade": true,
     "grade_id": "cell-10c1e16b0a2b2bf8",
     "locked": true,
     "points": 0.5,
     "schema_version": 3,
     "solution": false,
     "task": false
    }
   },
   "outputs": [],
   "source": [
    "# TEST\n",
    "assert num_thefts_each_year.loc[2001] == 20669\n",
    "assert num_thefts_each_year.loc[2012] == 14092"
   ]
  },
  {
   "cell_type": "markdown",
   "metadata": {},
   "source": [
    "Implement for step 2. "
   ]
  },
  {
   "cell_type": "code",
   "execution_count": 234,
   "metadata": {
    "deletable": false,
    "nbgrader": {
     "cell_type": "code",
     "checksum": "f0c5966c75e665325d83f45dd5fcc9a9",
     "grade": true,
     "grade_id": "cell-c3f22e75a64dab00",
     "locked": false,
     "points": 0.25,
     "schema_version": 3,
     "solution": true,
     "task": false
    }
   },
   "outputs": [
    {
     "data": {
      "text/plain": [
       "<AxesSubplot:title={'center':'Number of Thefts Each Year'}, xlabel='Year', ylabel='NumThefts'>"
      ]
     },
     "execution_count": 234,
     "metadata": {},
     "output_type": "execute_result"
    },
    {
     "data": {
      "image/png": "[encoded data removed]",
      "text/plain": [
       "<Figure size 640x480 with 1 Axes>"
      ]
     },
     "metadata": {},
     "output_type": "display_data"
    }
   ],
   "source": [
    "# YOUR CODE HERE\n",
    "num_thefts_each_year.plot(marker='o', title='Number of Thefts Each Year', xlabel='Year', ylabel='NumThefts')"
   ]
  },
  {
   "cell_type": "markdown",
   "metadata": {},
   "source": [
    "Additional information: In the United States, there was an economic crisis from 2008 to 2009. May be it related to something ..."
   ]
  },
  {
   "cell_type": "markdown",
   "metadata": {},
   "source": [
    "### With the given cases that occur each year, calculating the proportion of crime caught by the time the data is garthered? <font color=green>(1.25 Points)</font>\n",
    "\n",
    "You will use the following procedures to respond to this question:\n",
    "- Step 1: Calculate the percentage (from 0 to 1) of the time it takes to catch the perpetrator for each year (the year here is the year the crime occurred, and catching or not catching is up to the time the data is collected). The results are saved in the series `arrest_ratio_each_year`, where index is the year.\n",
    "- Step 2: You create a line chart from the above results, with the horizontal axis representing the year and the vertical axis representing the captured rate. To clearly show the data points, you use the marker as a round point. The horizontal axis is labeled \"Year,\" and the vertical axis is labeled \"ArrestRatio.\". In additional, you also need to change the value range of the vertical axis from 0 to 1."
   ]
  },
  {
   "cell_type": "markdown",
   "metadata": {},
   "source": [
    "Implement for step 1. "
   ]
  },
  {
   "cell_type": "code",
   "execution_count": 235,
   "metadata": {
    "deletable": false,
    "nbgrader": {
     "cell_type": "code",
     "checksum": "b4716751342c988dcc4536b763d16cd5",
     "grade": false,
     "grade_id": "cell-129a07978e3c0de1",
     "locked": false,
     "schema_version": 3,
     "solution": true,
     "task": false
    }
   },
   "outputs": [],
   "source": [
    "# YOUR CODE HERE\n",
    "arrest_ratio_each_year = mvt_df.groupby('Year')['Arrest'].mean()"
   ]
  },
  {
   "cell_type": "code",
   "execution_count": 236,
   "metadata": {
    "deletable": false,
    "editable": false,
    "nbgrader": {
     "cell_type": "code",
     "checksum": "051d560caefafe48a5ada18a3472b635",
     "grade": true,
     "grade_id": "cell-81a06dfa2c96900c",
     "locked": true,
     "points": 0.75,
     "schema_version": 3,
     "solution": false,
     "task": false
    }
   },
   "outputs": [],
   "source": [
    "# TEST\n",
    "assert round(arrest_ratio_each_year.loc[2001], 3) == 0.104\n",
    "assert round(arrest_ratio_each_year.loc[2012], 3) == 0.039"
   ]
  },
  {
   "cell_type": "markdown",
   "metadata": {},
   "source": [
    "Implement for step 2. "
   ]
  },
  {
   "cell_type": "code",
   "execution_count": 237,
   "metadata": {
    "deletable": false,
    "nbgrader": {
     "cell_type": "code",
     "checksum": "3624cec51e611f66943119aa5a2b3638",
     "grade": true,
     "grade_id": "cell-fe3eae5b8130e5ec",
     "locked": false,
     "points": 0.25,
     "schema_version": 3,
     "solution": true,
     "task": false
    }
   },
   "outputs": [
    {
     "data": {
      "text/plain": [
       "<AxesSubplot:title={'center':'Arrest Ratio Each Year'}, xlabel='Year', ylabel='ArrestRatio'>"
      ]
     },
     "execution_count": 237,
     "metadata": {},
     "output_type": "execute_result"
    },
    {
     "data": {
      "image/png": "[encoded data removed]",
      "text/plain": [
       "<Figure size 640x480 with 1 Axes>"
      ]
     },
     "metadata": {},
     "output_type": "display_data"
    }
   ],
   "source": [
    "# YOUR CODE HERE\n",
    "arrest_ratio_each_year.plot(marker='o', title='Arrest Ratio Each Year', xlabel='Year', ylabel='ArrestRatio', ylim=(0, 1))"
   ]
  },
  {
   "cell_type": "markdown",
   "metadata": {},
   "source": [
    "The overall arrest rate has decreased in recent years. Why is this the case? We don't know for sure in general. However, you try to think about and develop a hypothesis to explain this trend based on the following information: The year here refers to the year the crime occurred, whether it was caught or not, up until the time the data was collected. collected (this data was collected around 2012–2013, at the opening of the \"The Analytics Edge\" course) (this data was collected around 2012–2013, at the opening of the \"The Analytics Edge\" course)."
   ]
  },
  {
   "cell_type": "markdown",
   "metadata": {
    "deletable": false,
    "nbgrader": {
     "cell_type": "markdown",
     "checksum": "f21cea3600714c64427a488015695010",
     "grade": true,
     "grade_id": "cell-d91e2d8fd4045ebb",
     "locked": false,
     "points": 0.25,
     "schema_version": 3,
     "solution": true,
     "task": false
    }
   },
   "source": [
    "YOUR ANSWER HERE\n",
    "- Because the overall arrest rate has decreased in recent years, the hypothesis is that the police are not catching the criminals as much as they used to. This could be because the police are understaffed, \n",
    "- Or because the criminals are getting smarter and more difficult to catch. \n",
    "- Or it could be that the police are not as interested in catching criminals as they used to be and easy to be bribed with money in Economic Crisis 2008-2009."
   ]
  },
  {
   "cell_type": "markdown",
   "metadata": {},
   "source": [
    "###  Which \"Beat\" has the most crimes each year, and which has the fewest? <font color=green>(0.75 Points)</font>\n",
    "\n",
    "The results are saved in the dataframe 'two beats each year df'. This dataframe has 12 rows corresponding to 12 years, 2001, 2002,..., 2012, and 2 columns, \"SafeBeat\" (\"Beat\" has the fewest crimes) and \"DangerousBeat\" (\"Beat\" has the most crimes) (\"Beat\" has the most crimes)."
   ]
  },
  {
   "cell_type": "code",
   "execution_count": 238,
   "metadata": {
    "deletable": false,
    "nbgrader": {
     "cell_type": "code",
     "checksum": "5cd5cba0a2fddc31f015a38d3f8fe44e",
     "grade": false,
     "grade_id": "cell-7ef114a2b6ffaad2",
     "locked": false,
     "schema_version": 3,
     "solution": true,
     "task": false
    }
   },
   "outputs": [],
   "source": [
    "# YOUR CODE HERE\n",
    "two_beats_each_year_df = mvt_df.groupby(['Year', 'Beat']).size().unstack().idxmax(axis=1).to_frame().rename(columns={0: 'DangerousBeat'}).join(mvt_df.groupby(['Year', 'Beat']).size().unstack().idxmin(axis=1).to_frame().rename(columns={0: 'SafeBeat'}))"
   ]
  },
  {
   "cell_type": "code",
   "execution_count": 239,
   "metadata": {
    "deletable": false,
    "editable": false,
    "nbgrader": {
     "cell_type": "code",
     "checksum": "3cc248e2ece08599ad1478d31504a355",
     "grade": true,
     "grade_id": "cell-7bab4fca5fec8531",
     "locked": true,
     "points": 0.75,
     "schema_version": 3,
     "solution": false,
     "task": false
    }
   },
   "outputs": [],
   "source": [
    "# TEST\n",
    "df = two_beats_each_year_df\n",
    "assert df.loc[2001, 'SafeBeat'] == 134\n",
    "assert df.loc[2001, 'DangerousBeat'] == 833\n",
    "assert df.loc[2012, 'SafeBeat'] in [134, 2122, 2322, 2324]\n",
    "assert df.loc[2012, 'DangerousBeat'] == 824"
   ]
  },
  {
   "cell_type": "markdown",
   "metadata": {},
   "source": [
    "### What five types of locations (off-streets/ street, parking spaces/ parking lot, etc.) have seen the most crime in the last three years? <font color=green>(0.75 Points)</font>\n",
    "\n",
    "The \"LocationDescription\" column stores the location type. Location \"OTHER\" DOES NOT count among the five types of locations in question. You save the results in the following order in the list `top5_locs`: The first element is the highest number of crimes, the second element is the second highest number of crimes,..."
   ]
  },
  {
   "cell_type": "code",
   "execution_count": 240,
   "metadata": {
    "deletable": false,
    "nbgrader": {
     "cell_type": "code",
     "checksum": "1ccfcbae3d8afb90cf3d8aeba2e7e46d",
     "grade": false,
     "grade_id": "cell-9f05d5d157d6c417",
     "locked": false,
     "schema_version": 3,
     "solution": true,
     "task": false
    }
   },
   "outputs": [],
   "source": [
    "# YOUR CODE HERE\n",
    "max_year = mvt_df['Year'].max()\n",
    "top5_locs = mvt_df[mvt_df['Year'] >= (max_year - 2)].groupby('LocationDescription').size().sort_values(ascending=False)\n",
    "top5_locs = top5_locs[top5_locs.index != 'OTHER'].index[:5].tolist()"
   ]
  },
  {
   "cell_type": "code",
   "execution_count": 241,
   "metadata": {
    "deletable": false,
    "editable": false,
    "nbgrader": {
     "cell_type": "code",
     "checksum": "6da6fbe24fa05dafa3db51a3a46dd815",
     "grade": true,
     "grade_id": "cell-5e91bd1e3d1aceec",
     "locked": true,
     "points": 0.75,
     "schema_version": 3,
     "solution": false,
     "task": false
    }
   },
   "outputs": [],
   "source": [
    "# TEST\n",
    "assert top5_locs == ['STREET', \n",
    "                     'PARKING LOT/GARAGE(NON.RESID.)', \n",
    "                     'RESIDENTIAL YARD (FRONT/BACK)', \n",
    "                     'VEHICLE NON-COMMERCIAL', \n",
    "                     'ALLEY']"
   ]
  },
  {
   "cell_type": "markdown",
   "metadata": {},
   "source": [
    "### How has the number of crimes changed month by month over the last three years? <font color=green>(1 Points)</font> \n",
    "\n",
    "You will use the following procedures to respond to this question:\n",
    "- Step 1: Calculate to generate the dataframe `num_thefts_each_month_df`, which contains three columns (named 2010, 2011, and 2012, respectively) that correspond to the number of crimes by month and 12 rows (named 1, 2,..., 12) that correspond to months in the year.  \n",
    "- Step 2: You visualize three lines (corresponding to three years) from the above results on the same chart, where the horizontal axis is the month and the vertical axis is the number of crimes. To clearly show the data points, you use the marker as a round point. The horizontal axis is labeled \"Month,\" and the vertical axis is labeled \"NumThefts.\" You must also use the legend to determine which road corresponds to which year."
   ]
  },
  {
   "cell_type": "markdown",
   "metadata": {},
   "source": [
    "Implement for step 1. "
   ]
  },
  {
   "cell_type": "code",
   "execution_count": 242,
   "metadata": {
    "deletable": false,
    "nbgrader": {
     "cell_type": "code",
     "checksum": "5ae6b11e2939994396ea81a514e5100e",
     "grade": false,
     "grade_id": "cell-8199894515a93739",
     "locked": false,
     "schema_version": 3,
     "solution": true,
     "task": false
    }
   },
   "outputs": [],
   "source": [
    "# YOUR CODE HERE\n",
    "num_thefts_each_month_df = mvt_df[mvt_df['Year'] >= 2010].groupby(['Year', 'Month']).size().unstack().T"
   ]
  },
  {
   "cell_type": "code",
   "execution_count": 243,
   "metadata": {
    "deletable": false,
    "editable": false,
    "nbgrader": {
     "cell_type": "code",
     "checksum": "1843e7bb6c3341a6c4929e44e8de29f3",
     "grade": true,
     "grade_id": "cell-1b37c024f3bf33e9",
     "locked": true,
     "points": 0.75,
     "schema_version": 3,
     "solution": false,
     "task": false
    }
   },
   "outputs": [],
   "source": [
    "# TEST\n",
    "df = num_thefts_each_month_df\n",
    "assert df.shape == (12, 3)\n",
    "assert df.loc[1, 2010] == 1278\n",
    "assert df.loc[1, 2011] == 1508\n",
    "assert df.loc[1, 2012] == 1253"
   ]
  },
  {
   "cell_type": "markdown",
   "metadata": {},
   "source": [
    "Implement for step 2. "
   ]
  },
  {
   "cell_type": "code",
   "execution_count": 244,
   "metadata": {
    "deletable": false,
    "nbgrader": {
     "cell_type": "code",
     "checksum": "1c9d18a5ba82268dffbece405ddd2fac",
     "grade": true,
     "grade_id": "cell-443fcd8b92392f58",
     "locked": false,
     "points": 0.25,
     "schema_version": 3,
     "solution": true,
     "task": false
    }
   },
   "outputs": [
    {
     "data": {
      "text/plain": [
       "<AxesSubplot:title={'center':'Number of Thefts Each Month'}, xlabel='Month', ylabel='NumThefts'>"
      ]
     },
     "execution_count": 244,
     "metadata": {},
     "output_type": "execute_result"
    },
    {
     "data": {
      "image/png": "[encoded data removed]",
      "text/plain": [
       "<Figure size 640x480 with 1 Axes>"
      ]
     },
     "metadata": {},
     "output_type": "display_data"
    }
   ],
   "source": [
    "# YOUR CODE HERE\n",
    "num_thefts_each_month_df.plot(marker='o', title='Number of Thefts Each Month', xlabel='Month', ylabel='NumThefts')"
   ]
  },
  {
   "cell_type": "markdown",
   "metadata": {},
   "source": [
    "This is the end of Lab 3 (￣▽￣) Good luck!"
   ]
  }
 ],
 "metadata": {
  "kernelspec": {
   "display_name": "Python 3.9.12 ('DataScience')",
   "language": "python",
   "name": "python3"
  },
  "language_info": {
   "codemirror_mode": {
    "name": "ipython",
    "version": 3
   },
   "file_extension": ".py",
   "mimetype": "text/x-python",
   "name": "python",
   "nbconvert_exporter": "python",
   "pygments_lexer": "ipython3",
   "version": "3.9.12 (main, Apr  5 2022, 06:56:58) \n[GCC 7.5.0]"
  },
  "toc": {
   "base_numbering": 1,
   "nav_menu": {},
   "number_sections": false,
   "sideBar": true,
   "skip_h1_title": false,
   "title_cell": "Table of Contents",
   "title_sidebar": "Contents",
   "toc_cell": false,
   "toc_position": {
    "height": "calc(100% - 180px)",
    "left": "10px",
    "top": "150px",
    "width": "240px"
   },
   "toc_section_display": true,
   "toc_window_display": true
  },
  "vscode": {
   "interpreter": {
    "hash": "da5c88a7b415d3aa4fc851a4158d37c895b2b016e8b5a5cb2326d03829d70c8b"
   }
  }
 },
 "nbformat": 4,
 "nbformat_minor": 4
}
